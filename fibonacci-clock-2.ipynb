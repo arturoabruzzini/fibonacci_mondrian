{
 "cells": [
  {
   "cell_type": "code",
   "execution_count": 1,
   "metadata": {},
   "outputs": [],
   "source": [
    "import datetime"
   ]
  },
  {
   "attachments": {},
   "cell_type": "markdown",
   "metadata": {},
   "source": [
    "Get the current time"
   ]
  },
  {
   "cell_type": "code",
   "execution_count": 2,
   "metadata": {},
   "outputs": [
    {
     "data": {
      "text/plain": [
       "[12, 20, 47]"
      ]
     },
     "execution_count": 2,
     "metadata": {},
     "output_type": "execute_result"
    }
   ],
   "source": [
    "def get_time():\n",
    "    current_time = datetime.datetime.now()\n",
    "\n",
    "    return [current_time.hour, current_time.minute, current_time.second]\n",
    "\n",
    "get_time()"
   ]
  },
  {
   "attachments": {},
   "cell_type": "markdown",
   "metadata": {},
   "source": [
    "Convert to Fibonary\n",
    "\n",
    "1,1,2,3,5,8,13,21,34,55"
   ]
  },
  {
   "cell_type": "code",
   "execution_count": 3,
   "metadata": {},
   "outputs": [],
   "source": [
    "class Graphics:\n",
    "    def __init__(self):\n",
    "        self.colour = 'black'\n",
    "    \n",
    "    def create_pen(self, r, g, b):\n",
    "        return (r / 255, g / 255, b / 255)\n",
    "\n",
    "    def set_font(self, font):\n",
    "        return\n",
    "\n",
    "    def set_pen(self, colour):\n",
    "        self.colour = colour\n",
    "\n",
    "    def rectangle(self, x, y, width, height):\n",
    "        rect = plt.Rectangle((x, y), width, height, linewidth=1, edgecolor='black', facecolor=self.colour)\n",
    "        ax.add_artist(rect)"
   ]
  },
  {
   "attachments": {},
   "cell_type": "markdown",
   "metadata": {},
   "source": [
    "Draw it up"
   ]
  },
  {
   "cell_type": "code",
   "execution_count": 4,
   "metadata": {},
   "outputs": [],
   "source": [
    "import sys\n",
    "sys.path.append('./fibonacci_clock')"
   ]
  },
  {
   "cell_type": "code",
   "execution_count": 5,
   "metadata": {},
   "outputs": [],
   "source": [
    "import time\n",
    "from IPython import display\n",
    "import matplotlib.pyplot as plt\n",
    "from matplotlib.patches import Rectangle\n",
    "from fibonacci_clock.draw_utils import *\n",
    "from fibonacci_clock.fibonacci import *\n",
    "from fibonacci_clock.borders import *\n",
    "%matplotlib inline"
   ]
  },
  {
   "cell_type": "code",
   "execution_count": 6,
   "metadata": {},
   "outputs": [
    {
     "ename": "KeyboardInterrupt",
     "evalue": "",
     "output_type": "error",
     "traceback": [
      "\u001b[0;31m---------------------------------------------------------------------------\u001b[0m",
      "\u001b[0;31mKeyboardInterrupt\u001b[0m                         Traceback (most recent call last)",
      "Cell \u001b[0;32mIn[6], line 30\u001b[0m\n\u001b[1;32m     27\u001b[0m display\u001b[39m.\u001b[39mdisplay(plt\u001b[39m.\u001b[39mgcf())\n\u001b[1;32m     28\u001b[0m display\u001b[39m.\u001b[39mclear_output(wait\u001b[39m=\u001b[39m\u001b[39mTrue\u001b[39;00m)\n\u001b[0;32m---> 30\u001b[0m time\u001b[39m.\u001b[39;49msleep(\u001b[39m0.2\u001b[39;49m)\n\u001b[1;32m     32\u001b[0m \u001b[39mif\u001b[39;00m use_fake_time:\n\u001b[1;32m     33\u001b[0m     fake_time[\u001b[39m2\u001b[39m] \u001b[39m+\u001b[39m\u001b[39m=\u001b[39m \u001b[39m1\u001b[39m\n",
      "\u001b[0;31mKeyboardInterrupt\u001b[0m: "
     ]
    },
    {
     "data": {
      "image/png": "[encoded data removed]",
      "text/plain": [
       "<Figure size 1000x1000 with 1 Axes>"
      ]
     },
     "metadata": {},
     "output_type": "display_data"
    }
   ],
   "source": [
    "graphics = Graphics()\n",
    "set_draw_utils(graphics)\n",
    "loop = True\n",
    "use_fake_time = False\n",
    "fake_time = [0, 0, 0]\n",
    "\n",
    "fig, ax = plt.subplots(figsize=(10, 10))\n",
    "ax.set_aspect('equal', 'box')\n",
    "ax.axis('off')\n",
    "# adjust x and y limits to zoom out\n",
    "ax.set_xlim([0, 64])\n",
    "ax.set_ylim([0, 64])\n",
    "\n",
    "ax.invert_yaxis()\n",
    "\n",
    "offset_x = 4\n",
    "offset_y = 4\n",
    "\n",
    "while True:\n",
    "    [hour, minute, second] = get_time() if not use_fake_time else fake_time\n",
    "\n",
    "    draw_square(graphics, 0, 0, 64, 'black')\n",
    "    draw_borders(graphics, second, offset_x, offset_y)\n",
    "    draw_fibonacci(graphics, hour, minute, offset_x, offset_y)\n",
    "\n",
    "    # display the plot\n",
    "    display.display(plt.gcf())\n",
    "    display.clear_output(wait=True)\n",
    "    \n",
    "    time.sleep(0.2)\n",
    "\n",
    "    if use_fake_time:\n",
    "        fake_time[2] += 1\n",
    "        if fake_time[2] >= 60:\n",
    "            fake_time[2] = 0\n",
    "            fake_time[1] += 1\n",
    "            if fake_time[1] >= 60:\n",
    "                fake_time[1] = 0\n",
    "                fake_time[0] += 1\n",
    "                if fake_time[0] >= 24:\n",
    "                    fake_time[0] = 0\n",
    "    if not loop:\n",
    "        break"
   ]
  },
  {
   "cell_type": "code",
   "execution_count": null,
   "metadata": {},
   "outputs": [],
   "source": []
  }
 ],
 "metadata": {
  "kernelspec": {
   "display_name": "myenv",
   "language": "python",
   "name": "myenv"
  },
  "language_info": {
   "codemirror_mode": {
    "name": "ipython",
    "version": 3
   },
   "file_extension": ".py",
   "mimetype": "text/x-python",
   "name": "python",
   "nbconvert_exporter": "python",
   "pygments_lexer": "ipython3",
   "version": "3.8.16"
  },
  "orig_nbformat": 4
 },
 "nbformat": 4,
 "nbformat_minor": 2
}
