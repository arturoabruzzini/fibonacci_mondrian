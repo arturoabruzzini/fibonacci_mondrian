{
 "cells": [
  {
   "cell_type": "code",
   "execution_count": 2,
   "metadata": {},
   "outputs": [],
   "source": [
    "import datetime\n",
    "import pandas as pd"
   ]
  },
  {
   "attachments": {},
   "cell_type": "markdown",
   "metadata": {},
   "source": [
    "Get the current time"
   ]
  },
  {
   "cell_type": "code",
   "execution_count": 3,
   "metadata": {},
   "outputs": [
    {
     "data": {
      "text/plain": [
       "[10, 37]"
      ]
     },
     "execution_count": 3,
     "metadata": {},
     "output_type": "execute_result"
    }
   ],
   "source": [
    "def get_time():\n",
    "    current_time = datetime.datetime.now()\n",
    "\n",
    "    return [current_time.hour, current_time.minute]\n",
    "\n",
    "get_time()"
   ]
  },
  {
   "attachments": {},
   "cell_type": "markdown",
   "metadata": {},
   "source": [
    "Convert to Fibonary\n",
    "\n",
    "1,1,2,3,5,8,13,21,34,55"
   ]
  },
  {
   "cell_type": "code",
   "execution_count": 4,
   "metadata": {},
   "outputs": [],
   "source": [
    "# Define the Fibonacci sequence\n",
    "fibonacci_all = [1, 1]\n",
    "while fibonacci_all[-1] < 34:\n",
    "    fibonacci_all.append(fibonacci_all[-1] + fibonacci_all[-2])\n",
    "\n",
    "fibonacci = fibonacci_all[1:]"
   ]
  },
  {
   "cell_type": "code",
   "execution_count": 5,
   "metadata": {},
   "outputs": [
    {
     "name": "stdout",
     "output_type": "stream",
     "text": [
      "The modified Fibonacci binary representation of 20 is: 00101010\n"
     ]
    }
   ],
   "source": [
    "def decimal_to_fibonary(decimal_num):\n",
    "    # Convert the decimal number to modified Fibonacci binary\n",
    "    fibonary = \"\"\n",
    "    for num in reversed(fibonacci):\n",
    "        if decimal_num >= num:\n",
    "            fibonary += '1'\n",
    "            decimal_num -= num\n",
    "        else:\n",
    "            fibonary += '0'\n",
    "    \n",
    "    # Pad the modified Fibonacci fibonary number to 8 digits\n",
    "    fibonary = \"{:0>8}\".format(fibonary)\n",
    "    \n",
    "    return fibonary\n",
    "\n",
    "# Example usage of the function\n",
    "decimal_num = 20\n",
    "fibonary = decimal_to_fibonary(decimal_num)\n",
    "print(\"The modified Fibonacci binary representation of {} is: {}\".format(decimal_num, fibonary))\n"
   ]
  },
  {
   "cell_type": "code",
   "execution_count": 6,
   "metadata": {},
   "outputs": [
    {
     "name": "stdout",
     "output_type": "stream",
     "text": [
      "    Fibonary\n",
      "0   00000000\n",
      "1   00000001\n",
      "2   00000010\n",
      "3   00000100\n",
      "4   00000101\n",
      "5   00001000\n",
      "6   00001001\n",
      "7   00001010\n",
      "8   00010000\n",
      "9   00010001\n",
      "10  00010010\n",
      "11  00010100\n",
      "12  00010101\n",
      "13  00100000\n",
      "14  00100001\n",
      "15  00100010\n",
      "16  00100100\n",
      "17  00100101\n",
      "18  00101000\n",
      "19  00101001\n",
      "20  00101010\n",
      "21  01000000\n",
      "22  01000001\n",
      "23  01000010\n",
      "24  01000100\n",
      "25  01000101\n",
      "26  01001000\n",
      "27  01001001\n",
      "28  01001010\n",
      "29  01010000\n",
      "30  01010001\n",
      "31  01010010\n",
      "32  01010100\n",
      "33  01010101\n",
      "34  10000000\n",
      "35  10000001\n",
      "36  10000010\n",
      "37  10000100\n",
      "38  10000101\n",
      "39  10001000\n",
      "40  10001001\n",
      "41  10001010\n",
      "42  10010000\n",
      "43  10010001\n",
      "44  10010010\n",
      "45  10010100\n",
      "46  10010101\n",
      "47  10100000\n",
      "48  10100001\n",
      "49  10100010\n",
      "50  10100100\n",
      "51  10100101\n",
      "52  10101000\n",
      "53  10101001\n",
      "54  10101010\n",
      "55  11000000\n",
      "56  11000001\n",
      "57  11000010\n",
      "58  11000100\n",
      "59  11000101\n"
     ]
    }
   ],
   "source": [
    "numbers = list(range(60))\n",
    "\n",
    "# Apply the decimal_to_modified_fibonacci function to each number and store the result in a list\n",
    "fibonary_list = [decimal_to_fibonary(num) for num in numbers]\n",
    "\n",
    "# Create a pandas DataFrame with the two columns\n",
    "df = pd.DataFrame({'Fibonary': fibonary_list})\n",
    "\n",
    "# Display the DataFrame\n",
    "print(df)"
   ]
  },
  {
   "attachments": {},
   "cell_type": "markdown",
   "metadata": {},
   "source": [
    "Determine which quadrants need to be lit up"
   ]
  },
  {
   "cell_type": "code",
   "execution_count": 7,
   "metadata": {},
   "outputs": [
    {
     "data": {
      "text/plain": [
       "{'quadrant': [1, 2, 3, 5, 8, 13, 21, 34],\n",
       " 'hours': ['0', '1', '0', '0', '1', '0', '0', '0'],\n",
       " 'minutes': ['0', '0', '1', '0', '0', '0', '0', '1']}"
      ]
     },
     "execution_count": 7,
     "metadata": {},
     "output_type": "execute_result"
    }
   ],
   "source": [
    "def get_fibonary_time():\n",
    "    [current_hour, current_minute] = get_time()\n",
    "    return {\n",
    "        'quadrant': fibonacci,\n",
    "        'hours': list(reversed(decimal_to_fibonary(current_hour))),\n",
    "        'minutes': list(reversed(decimal_to_fibonary(current_minute))),\n",
    "    }\n",
    "    \n",
    "quadrants = get_fibonary_time()\n",
    "quadrants"
   ]
  },
  {
   "attachments": {},
   "cell_type": "markdown",
   "metadata": {},
   "source": [
    "Draw it up"
   ]
  },
  {
   "cell_type": "code",
   "execution_count": 8,
   "metadata": {},
   "outputs": [],
   "source": [
    "quadrant_coords = [\n",
    "    [21+8+1, 13+2],\n",
    "    [21+8, 13+2],\n",
    "    [21+8, 13],\n",
    "    [21+8+2, 13],\n",
    "    [21+8, 13+3],\n",
    "    [21, 13],\n",
    "    [21, 0],\n",
    "    [21+13, 0],\n",
    "    [21, 21],\n",
    "]\n",
    "\n",
    "# flip y axis\n",
    "quadrant_coords_min = quadrant_coords[:]\n",
    "for i in range(len(quadrant_coords_min)):\n",
    "    quadrant_coords_min[i] = [quadrant_coords_min[i][0], 55-fibonacci_all[i]-quadrant_coords_min[i][1]]\n",
    "\n",
    "minutes_config = {\n",
    "    'coords': quadrant_coords_min,\n",
    "    'colour': ['blue', 'blue', 'red', 'yellow', 'white', 'yellow', 'blue', 'red', 'blue']\n",
    "}\n",
    "\n",
    "# switch x and y, then flip y axis\n",
    "quadrant_coords_h = quadrant_coords[:]\n",
    "for i in range(len(quadrant_coords_h)):\n",
    "    # quadrant_coords_h[i] = list(reversed(quadrant_coords_h[i]))\n",
    "    quadrant_coords_h[i] = [quadrant_coords_h[i][1], 55-fibonacci_all[i]-quadrant_coords_h[i][0]]\n",
    "\n",
    "hours_config = {\n",
    "    'coords': quadrant_coords_h[:-1],\n",
    "    'colour': ['white', 'white', 'yellow', 'blue', 'red', 'white', 'red', 'yellow']\n",
    "}"
   ]
  },
  {
   "cell_type": "code",
   "execution_count": 9,
   "metadata": {},
   "outputs": [],
   "source": [
    "import matplotlib.pyplot as plt\n",
    "from matplotlib.patches import Rectangle\n"
   ]
  },
  {
   "cell_type": "code",
   "execution_count": 10,
   "metadata": {},
   "outputs": [],
   "source": [
    "def draw_square(size, color, x_start, y_start):\n",
    "    square = plt.Rectangle((x_start, y_start), size, size, linewidth=2, edgecolor='black', facecolor=color)\n",
    "    ax.add_artist(rect)\n"
   ]
  },
  {
   "cell_type": "code",
   "execution_count": 12,
   "metadata": {},
   "outputs": [
    {
     "name": "stdout",
     "output_type": "stream",
     "text": [
      "Hours 01001000\n",
      "Minutes 10100001\n"
     ]
    },
    {
     "data": {
      "image/png": "[encoded data removed]",
      "text/plain": [
       "<Figure size 640x480 with 1 Axes>"
      ]
     },
     "metadata": {},
     "output_type": "display_data"
    }
   ],
   "source": [
    "import matplotlib.pyplot as plt\n",
    "\n",
    "canvas_size = 55\n",
    "border_size = 5\n",
    "colour_all_quadrants = True\n",
    "# colour_all_quadrants = False\n",
    "\n",
    "# create figure with one subplot\n",
    "fig, ax = plt.subplots()\n",
    "\n",
    "# set aspect ratio to square and turn off axes\n",
    "ax.set_aspect('equal', 'box')\n",
    "ax.axis('off')\n",
    "\n",
    "def draw_rect(width, height, x, y, color):\n",
    "    rect = plt.Rectangle((x, y), width, height, linewidth=1,\n",
    "                           edgecolor='black', facecolor=color)\n",
    "    ax.add_artist(rect)\n",
    "\n",
    "quadrants = get_fibonary_time()\n",
    "\n",
    "print('Hours ' + \"\".join(quadrants['hours']))\n",
    "print('Minutes ' + \"\".join(quadrants['minutes']))\n",
    "\n",
    "adjust_x = 0\n",
    "adjust_y = 0\n",
    "# draw minutes\n",
    "for index in range(len(minutes_config['coords'])):\n",
    "    x, y = minutes_config['coords'][index]\n",
    "    active = quadrants['minutes'][index] if index == 0 else quadrants['minutes'][index-1]\n",
    "    draw_rect(fibonacci_all[index], fibonacci_all[index], x + adjust_x, y + adjust_y, minutes_config['colour'][index] if active == '0' or colour_all_quadrants else 'white')\n",
    "    \n",
    "# draw hours\n",
    "for index in range(len(hours_config['coords'])):\n",
    "    x, y = hours_config['coords'][index]\n",
    "    active = quadrants['hours'][index] if index == 0 else quadrants['hours'][index-1]\n",
    "    draw_rect(fibonacci_all[index], fibonacci_all[index], x + adjust_x, y + adjust_y, hours_config['colour'][index] if active == '0' or colour_all_quadrants else 'white')\n",
    "    \n",
    "# draw rest of picture\n",
    "# draw_rect(21,21,0,0,'white')\n",
    "# # bottom\n",
    "draw_rect(border_size+8,border_size,-border_size,-border_size,'red')\n",
    "draw_rect(13+13,border_size,8,-border_size,'yellow')\n",
    "draw_rect(8,border_size,13+13+8,-border_size,'black')\n",
    "draw_rect(13,border_size,13+13+8+8,-border_size,'white')\n",
    "# right\n",
    "draw_rect(border_size,border_size+8,canvas_size,-border_size,'blue')\n",
    "draw_rect(border_size,13,canvas_size,8,'white')\n",
    "draw_rect(border_size,21,canvas_size,8+13,'yellow')\n",
    "draw_rect(border_size,13+border_size,canvas_size,8+13+21,'white')\n",
    "# left\n",
    "draw_rect(border_size,8,-border_size,0,'white')\n",
    "draw_rect(border_size,13+13,-border_size,8,'white')\n",
    "draw_rect(border_size,8,-border_size,8+13+13,'black')\n",
    "draw_rect(border_size,13,-border_size,8+13+13+8,'blue')\n",
    "# top\n",
    "draw_rect(border_size+8,border_size,-border_size,canvas_size,'white')\n",
    "draw_rect(13,border_size,8,canvas_size,'white')\n",
    "draw_rect(21,border_size,8+13,canvas_size,'red')\n",
    "draw_rect(13,border_size,8+13+21,canvas_size,'black')\n",
    "\n",
    "# adjust x and y limits to zoom out\n",
    "ax.set_xlim([-border_size, canvas_size + border_size])\n",
    "ax.set_ylim([-border_size, canvas_size + border_size])\n",
    "# ax.set_xlim([0, canvas_size])\n",
    "# ax.set_ylim([0, canvas_size])\n",
    "\n",
    "ax.invert_yaxis()\n",
    "\n",
    "# display the plot\n",
    "plt.show()\n"
   ]
  },
  {
   "cell_type": "code",
   "execution_count": null,
   "metadata": {},
   "outputs": [],
   "source": []
  }
 ],
 "metadata": {
  "kernelspec": {
   "display_name": "myenv",
   "language": "python",
   "name": "myenv"
  },
  "language_info": {
   "codemirror_mode": {
    "name": "ipython",
    "version": 3
   },
   "file_extension": ".py",
   "mimetype": "text/x-python",
   "name": "python",
   "nbconvert_exporter": "python",
   "pygments_lexer": "ipython3",
   "version": "3.8.16"
  },
  "orig_nbformat": 4
 },
 "nbformat": 4,
 "nbformat_minor": 2
}
