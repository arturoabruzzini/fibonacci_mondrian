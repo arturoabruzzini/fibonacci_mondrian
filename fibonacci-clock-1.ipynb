{
 "cells": [
  {
   "cell_type": "code",
   "execution_count": 44,
   "metadata": {},
   "outputs": [],
   "source": [
    "import datetime\n",
    "import pandas as pd"
   ]
  },
  {
   "attachments": {},
   "cell_type": "markdown",
   "metadata": {},
   "source": [
    "Get the current time"
   ]
  },
  {
   "cell_type": "code",
   "execution_count": 45,
   "metadata": {},
   "outputs": [
    {
     "data": {
      "text/plain": [
       "[18, 32]"
      ]
     },
     "execution_count": 45,
     "metadata": {},
     "output_type": "execute_result"
    }
   ],
   "source": [
    "def get_time():\n",
    "    current_time = datetime.datetime.now()\n",
    "\n",
    "    return [current_time.hour, current_time.minute]\n",
    "\n",
    "get_time()"
   ]
  },
  {
   "attachments": {},
   "cell_type": "markdown",
   "metadata": {},
   "source": [
    "Convert to Fibonary\n",
    "\n",
    "1,1,2,3,5,8,13,21,34,55"
   ]
  },
  {
   "cell_type": "code",
   "execution_count": 77,
   "metadata": {},
   "outputs": [],
   "source": [
    "# Define the Fibonacci sequence\n",
    "fibonacci_all = [1, 1]\n",
    "while fibonacci_all[-1] < 34:\n",
    "    fibonacci_all.append(fibonacci_all[-1] + fibonacci_all[-2])\n",
    "\n",
    "fibonacci = fibonacci_all[1:]"
   ]
  },
  {
   "cell_type": "code",
   "execution_count": null,
   "metadata": {},
   "outputs": [],
   "source": [
    "def decimal_to_fibonary(decimal_num):\n",
    "    # Convert the decimal number to modified Fibonacci binary\n",
    "    fibonary = \"\"\n",
    "    for num in reversed(fibonacci):\n",
    "        if decimal_num >= num:\n",
    "            fibonary += '1'\n",
    "            decimal_num -= num\n",
    "        else:\n",
    "            fibonary += '0'\n",
    "    \n",
    "    # Pad the modified Fibonacci fibonary number to 8 digits\n",
    "    fibonary = fibonary.rjust(8, '0')\n",
    "    \n",
    "    return fibonary\n",
    "\n",
    "# Example usage of the function\n",
    "decimal_num = 20\n",
    "fibonary = decimal_to_fibonary(decimal_num)\n",
    "print(\"The modified Fibonacci binary representation of {} is: {}\".format(decimal_num, fibonary))\n"
   ]
  },
  {
   "cell_type": "code",
   "execution_count": 47,
   "metadata": {},
   "outputs": [
    {
     "name": "stdout",
     "output_type": "stream",
     "text": [
      "    Fibonary\n",
      "0   00000000\n",
      "1   00000001\n",
      "2   00000010\n",
      "3   00000100\n",
      "4   00000101\n",
      "5   00001000\n",
      "6   00001001\n",
      "7   00001010\n",
      "8   00010000\n",
      "9   00010001\n",
      "10  00010010\n",
      "11  00010100\n",
      "12  00010101\n",
      "13  00100000\n",
      "14  00100001\n",
      "15  00100010\n",
      "16  00100100\n",
      "17  00100101\n",
      "18  00101000\n",
      "19  00101001\n",
      "20  00101010\n",
      "21  01000000\n",
      "22  01000001\n",
      "23  01000010\n",
      "24  01000100\n",
      "25  01000101\n",
      "26  01001000\n",
      "27  01001001\n",
      "28  01001010\n",
      "29  01010000\n",
      "30  01010001\n",
      "31  01010010\n",
      "32  01010100\n",
      "33  01010101\n",
      "34  10000000\n",
      "35  10000001\n",
      "36  10000010\n",
      "37  10000100\n",
      "38  10000101\n",
      "39  10001000\n",
      "40  10001001\n",
      "41  10001010\n",
      "42  10010000\n",
      "43  10010001\n",
      "44  10010010\n",
      "45  10010100\n",
      "46  10010101\n",
      "47  10100000\n",
      "48  10100001\n",
      "49  10100010\n",
      "50  10100100\n",
      "51  10100101\n",
      "52  10101000\n",
      "53  10101001\n",
      "54  10101010\n",
      "55  11000000\n",
      "56  11000001\n",
      "57  11000010\n",
      "58  11000100\n",
      "59  11000101\n"
     ]
    }
   ],
   "source": [
    "numbers = list(range(60))\n",
    "\n",
    "# Apply the decimal_to_modified_fibonacci function to each number and store the result in a list\n",
    "fibonary_list = [decimal_to_fibonary(num) for num in numbers]\n",
    "\n",
    "# Create a pandas DataFrame with the two columns\n",
    "df = pd.DataFrame({'Fibonary': fibonary_list})\n",
    "\n",
    "# Display the DataFrame\n",
    "print(df)"
   ]
  },
  {
   "attachments": {},
   "cell_type": "markdown",
   "metadata": {},
   "source": [
    "Determine which quadrants need to be lit up"
   ]
  },
  {
   "cell_type": "code",
   "execution_count": 83,
   "metadata": {},
   "outputs": [
    {
     "data": {
      "text/html": [
       "<div>\n",
       "<style scoped>\n",
       "    .dataframe tbody tr th:only-of-type {\n",
       "        vertical-align: middle;\n",
       "    }\n",
       "\n",
       "    .dataframe tbody tr th {\n",
       "        vertical-align: top;\n",
       "    }\n",
       "\n",
       "    .dataframe thead th {\n",
       "        text-align: right;\n",
       "    }\n",
       "</style>\n",
       "<table border=\"1\" class=\"dataframe\">\n",
       "  <thead>\n",
       "    <tr style=\"text-align: right;\">\n",
       "      <th></th>\n",
       "      <th>quadrant</th>\n",
       "      <th>hours</th>\n",
       "      <th>minutes</th>\n",
       "    </tr>\n",
       "  </thead>\n",
       "  <tbody>\n",
       "    <tr>\n",
       "      <th>0</th>\n",
       "      <td>1</td>\n",
       "      <td>0</td>\n",
       "      <td>0</td>\n",
       "    </tr>\n",
       "    <tr>\n",
       "      <th>1</th>\n",
       "      <td>2</td>\n",
       "      <td>0</td>\n",
       "      <td>0</td>\n",
       "    </tr>\n",
       "    <tr>\n",
       "      <th>2</th>\n",
       "      <td>3</td>\n",
       "      <td>0</td>\n",
       "      <td>0</td>\n",
       "    </tr>\n",
       "    <tr>\n",
       "      <th>3</th>\n",
       "      <td>5</td>\n",
       "      <td>1</td>\n",
       "      <td>1</td>\n",
       "    </tr>\n",
       "    <tr>\n",
       "      <th>4</th>\n",
       "      <td>8</td>\n",
       "      <td>0</td>\n",
       "      <td>0</td>\n",
       "    </tr>\n",
       "    <tr>\n",
       "      <th>5</th>\n",
       "      <td>13</td>\n",
       "      <td>1</td>\n",
       "      <td>1</td>\n",
       "    </tr>\n",
       "    <tr>\n",
       "      <th>6</th>\n",
       "      <td>21</td>\n",
       "      <td>0</td>\n",
       "      <td>0</td>\n",
       "    </tr>\n",
       "    <tr>\n",
       "      <th>7</th>\n",
       "      <td>34</td>\n",
       "      <td>0</td>\n",
       "      <td>1</td>\n",
       "    </tr>\n",
       "  </tbody>\n",
       "</table>\n",
       "</div>"
      ],
      "text/plain": [
       "   quadrant hours minutes\n",
       "0         1     0       0\n",
       "1         2     0       0\n",
       "2         3     0       0\n",
       "3         5     1       1\n",
       "4         8     0       0\n",
       "5        13     1       1\n",
       "6        21     0       0\n",
       "7        34     0       1"
      ]
     },
     "execution_count": 83,
     "metadata": {},
     "output_type": "execute_result"
    }
   ],
   "source": [
    "def get_fibonary_time():\n",
    "    [current_hour, current_minute] = get_time()\n",
    "    return pd.DataFrame({\n",
    "        'quadrant': fibonacci,\n",
    "        'hours': list(reversed(decimal_to_fibonary(current_hour))),\n",
    "        'minutes': list(reversed(decimal_to_fibonary(current_minute))),\n",
    "    })\n",
    "    \n",
    "quadrants = get_fibonary_time()\n",
    "quadrants"
   ]
  },
  {
   "attachments": {},
   "cell_type": "markdown",
   "metadata": {},
   "source": [
    "Draw it up"
   ]
  },
  {
   "cell_type": "code",
   "execution_count": 176,
   "metadata": {},
   "outputs": [],
   "source": [
    "quadrant_coords = [\n",
    "    [21+8+1, 13+2],\n",
    "    [21+8, 13+2],\n",
    "    [21+8, 13],\n",
    "    [21+8+2, 13],\n",
    "    [21+8, 13+3],\n",
    "    [21, 13],\n",
    "    [21, 0],\n",
    "    [21+13, 0],\n",
    "    [21, 21],\n",
    "]\n",
    "\n",
    "minutes_config = pd.DataFrame({\n",
    "    'coords': quadrant_coords,\n",
    "    'colour': ['green', 'blue', 'red', 'yellow', 'black', 'yellow', 'blue', 'red', 'blue']\n",
    "})\n",
    "\n",
    "for i in range(len(quadrant_coords)):\n",
    "    quadrant_coords[i] = list(reversed(quadrant_coords[i]))\n",
    "\n",
    "hours_config = pd.DataFrame({\n",
    "    'coords': quadrant_coords[:-1],\n",
    "    'colour': ['blue', 'black', 'yellow', 'blue', 'red', 'black', 'red', 'yellow']\n",
    "})"
   ]
  },
  {
   "cell_type": "code",
   "execution_count": 177,
   "metadata": {},
   "outputs": [],
   "source": [
    "import matplotlib.pyplot as plt\n",
    "from matplotlib.patches import Rectangle\n"
   ]
  },
  {
   "cell_type": "code",
   "execution_count": 178,
   "metadata": {},
   "outputs": [],
   "source": [
    "def draw_square(size, color, x_start, y_start):\n",
    "    square = plt.Rectangle((x_start, y_start), size, size, linewidth=2, edgecolor='black', facecolor=color)\n",
    "    ax.add_artist(rect)\n"
   ]
  },
  {
   "cell_type": "code",
   "execution_count": 191,
   "metadata": {},
   "outputs": [
    {
     "name": "stdout",
     "output_type": "stream",
     "text": [
      "Hours 00100100\n",
      "Minutes 00100101\n"
     ]
    },
    {
     "data": {
      "image/png": "[encoded data removed]",
      "text/plain": [
       "<Figure size 640x480 with 1 Axes>"
      ]
     },
     "metadata": {},
     "output_type": "display_data"
    }
   ],
   "source": [
    "import matplotlib.pyplot as plt\n",
    "\n",
    "canvas_size = 55\n",
    "border_size = 5\n",
    "# colour_all_quadrants = True\n",
    "colour_all_quadrants = False\n",
    "\n",
    "# create figure with one subplot\n",
    "fig, ax = plt.subplots()\n",
    "\n",
    "# set aspect ratio to square and turn off axes\n",
    "ax.set_aspect('equal', 'box')\n",
    "ax.axis('off')\n",
    "\n",
    "def draw_rect(width, height, x, y, color):\n",
    "    rect = plt.Rectangle((x, y), width, height, linewidth=1,\n",
    "                           edgecolor='black', facecolor=color)\n",
    "    ax.add_artist(rect)\n",
    "\n",
    "quadrants = get_fibonary_time()\n",
    "\n",
    "print('Hours ' + quadrants['hours'].str.cat())\n",
    "print('Minutes ' + quadrants['minutes'].str.cat())\n",
    "\n",
    "# draw minutes\n",
    "for index, row in minutes_config.iterrows():\n",
    "    x, y = row['coords']\n",
    "    active = quadrants.iloc[index].minutes if index == 0 else quadrants.iloc[index-1].minutes\n",
    "    draw_rect(fibonacci_all[index], fibonacci_all[index], x, y, row['colour'] if active == '0' or colour_all_quadrants else 'white')\n",
    "    \n",
    "# draw hours\n",
    "for index, row in hours_config.iterrows():\n",
    "    x, y = row['coords']\n",
    "    active = quadrants.iloc[index].hours if index == 0 else quadrants.iloc[index-1].hours\n",
    "    draw_rect(fibonacci_all[index], fibonacci_all[index], x, y, row['colour'] if active == '0' or colour_all_quadrants else 'white')\n",
    "    \n",
    "# draw rest of picture\n",
    "draw_rect(21,21,0,0,'white')\n",
    "# bottom\n",
    "draw_rect(border_size+8,border_size,-border_size,-border_size,'red')\n",
    "draw_rect(13+13,border_size,8,-border_size,'yellow')\n",
    "draw_rect(8,border_size,13+13+8,-border_size,'black')\n",
    "draw_rect(13,border_size,13+13+8+8,-border_size,'white')\n",
    "# right\n",
    "draw_rect(border_size,border_size+8,canvas_size,-border_size,'blue')\n",
    "draw_rect(border_size,13,canvas_size,8,'white')\n",
    "draw_rect(border_size,21,canvas_size,8+13,'yellow')\n",
    "draw_rect(border_size,13+border_size,canvas_size,8+13+21,'white')\n",
    "# left\n",
    "draw_rect(border_size,8,-border_size,0,'white')\n",
    "draw_rect(border_size,13+13,-border_size,8,'white')\n",
    "draw_rect(border_size,8,-border_size,8+13+13,'black')\n",
    "draw_rect(border_size,13,-border_size,8+13+13+8,'blue')\n",
    "# top\n",
    "draw_rect(border_size+8,border_size,-border_size,canvas_size,'white')\n",
    "draw_rect(13,border_size,8,canvas_size,'white')\n",
    "draw_rect(21,border_size,8+13,canvas_size,'red')\n",
    "draw_rect(13,border_size,8+13+21,canvas_size,'black')\n",
    "\n",
    "# adjust x and y limits to zoom out\n",
    "ax.set_xlim([-border_size, canvas_size + border_size])\n",
    "ax.set_ylim([-border_size, canvas_size + border_size])\n",
    "\n",
    "# display the plot\n",
    "plt.show()\n"
   ]
  },
  {
   "cell_type": "code",
   "execution_count": null,
   "metadata": {},
   "outputs": [],
   "source": []
  },
  {
   "cell_type": "code",
   "execution_count": null,
   "metadata": {},
   "outputs": [],
   "source": []
  }
 ],
 "metadata": {
  "kernelspec": {
   "display_name": "myenv",
   "language": "python",
   "name": "myenv"
  },
  "language_info": {
   "codemirror_mode": {
    "name": "ipython",
    "version": 3
   },
   "file_extension": ".py",
   "mimetype": "text/x-python",
   "name": "python",
   "nbconvert_exporter": "python",
   "pygments_lexer": "ipython3",
   "version": "3.8.16"
  },
  "orig_nbformat": 4
 },
 "nbformat": 4,
 "nbformat_minor": 2
}
